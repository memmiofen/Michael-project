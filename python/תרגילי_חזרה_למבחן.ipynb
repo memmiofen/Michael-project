{
  "nbformat": 4,
  "nbformat_minor": 0,
  "metadata": {
    "colab": {
      "provenance": []
    },
    "kernelspec": {
      "name": "python3",
      "display_name": "Python 3"
    },
    "language_info": {
      "name": "python"
    }
  },
  "cells": [
    {
      "cell_type": "markdown",
      "source": [
        "**compelxity and O notation**\n",
        "\n",
        "read and understand the following scripts. Then, analyze their respective running times, and express it in O-notation"
      ],
      "metadata": {
        "id": "_CqpKBw0edTh"
      }
    },
    {
      "cell_type": "code",
      "source": [
        "def example1(arr):\n",
        "    total = 0\n",
        "    for num in arr:\n",
        "        total += num\n",
        "    return total\n"
      ],
      "metadata": {
        "id": "cpgi1y-0GzNo"
      },
      "execution_count": null,
      "outputs": []
    },
    {
      "cell_type": "code",
      "source": [
        "def example2(n):\n",
        "    for i in range(n):\n",
        "        for j in range(n):\n",
        "            print(i, j)\n"
      ],
      "metadata": {
        "id": "59m449MDIZiL"
      },
      "execution_count": null,
      "outputs": []
    },
    {
      "cell_type": "code",
      "source": [
        "def example3(n):\n",
        "    if n == 0:\n",
        "        return 1\n",
        "    else:\n",
        "        return n * example3(n - 1)\n"
      ],
      "metadata": {
        "id": "4rUNmyezIcde"
      },
      "execution_count": null,
      "outputs": []
    },
    {
      "cell_type": "code",
      "source": [
        "def example4(arr):\n",
        "    for i in range(len(arr)):\n",
        "        print(arr[i])\n",
        "    for j in range(len(arr)):\n",
        "        print(arr[j])\n"
      ],
      "metadata": {
        "id": "r-uhcXO4IfrF"
      },
      "execution_count": null,
      "outputs": []
    },
    {
      "cell_type": "code",
      "source": [
        "def example5(arr):\n",
        "    if len(arr) == 0:\n",
        "        return None\n",
        "    min_val = arr[0]\n",
        "    for num in arr:\n",
        "        if num < min_val:\n",
        "            min_val = num\n",
        "    return min_val\n"
      ],
      "metadata": {
        "id": "pdur2uGpIkzk"
      },
      "execution_count": null,
      "outputs": []
    },
    {
      "cell_type": "code",
      "source": [
        "def example6(arr):\n",
        "    n = len(arr)\n",
        "    i = 1\n",
        "    while i < n:\n",
        "        print(arr[i])\n",
        "        i *= 2\n"
      ],
      "metadata": {
        "id": "F98TjwPjIpSr"
      },
      "execution_count": null,
      "outputs": []
    },
    {
      "cell_type": "code",
      "source": [
        "def example7(n):\n",
        "    for i in range(n):\n",
        "        for j in range(i+1,n):\n",
        "            if i < 3:\n",
        "                print(i, j)\n",
        "            else:\n",
        "                a = j**(2 + i)\n",
        "                print(a, i)"
      ],
      "metadata": {
        "id": "fSGLHrI4Izyd"
      },
      "execution_count": null,
      "outputs": []
    },
    {
      "cell_type": "code",
      "source": [
        "def example8(arr):\n",
        "    n = len(arr)\n",
        "    for i in range(n):\n",
        "        for j in range(i, n):\n",
        "            for k in range(j, n):\n",
        "                print(arr[i], arr[j], arr[k])\n"
      ],
      "metadata": {
        "id": "c0bNbLeUIzHj"
      },
      "execution_count": null,
      "outputs": []
    },
    {
      "cell_type": "code",
      "source": [
        "def example9(n):\n",
        "    i = n\n",
        "    while i > 1:\n",
        "        print(i)\n",
        "        i //= 2\n",
        "\n"
      ],
      "metadata": {
        "id": "q3pi-IN9eHRX"
      },
      "execution_count": null,
      "outputs": []
    },
    {
      "cell_type": "code",
      "source": [
        "def example10(n):\n",
        "    i = 1\n",
        "    while i < n:\n",
        "        j = 1\n",
        "        while j < n:\n",
        "            print(i, j)\n",
        "            j *= 2\n",
        "        i += 1\n",
        "\n"
      ],
      "metadata": {
        "id": "y5nAhCJNeJaz"
      },
      "execution_count": null,
      "outputs": []
    },
    {
      "cell_type": "markdown",
      "source": [
        "**log**\n",
        "\n",
        "In dealing with O-notation, we often find the mathematical operation log. Let's parctice this mathematical operation:"
      ],
      "metadata": {
        "id": "7m5xKFlgfMKy"
      }
    },
    {
      "cell_type": "markdown",
      "source": [
        "![image.png](data:image/png;base64,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)"
      ],
      "metadata": {
        "id": "Z2mqA5CCfIJl"
      }
    },
    {
      "cell_type": "markdown",
      "source": [
        "The \"Two Sum\" problem is a classic algorithmic problem that can be stated as follows:\n",
        "\n",
        "Problem Statement:\n",
        "Given an array of integers nums and an integer target, return indices of the two numbers such that they add up to the target. You may assume that each input would have exactly one solution, and you may not use the same element twice. You can return the answer in any order."
      ],
      "metadata": {
        "id": "RrJYfHCdgIcS"
      }
    },
    {
      "cell_type": "code",
      "source": [
        "Input: nums = [2, 7, 11, 15], target = 9\n",
        "Output: [0, 1]\n",
        "Explanation: Because nums[0] + nums[1] == 9, we return [0, 1].\n"
      ],
      "metadata": {
        "id": "nZLVjMh0gKN5"
      },
      "execution_count": null,
      "outputs": []
    },
    {
      "cell_type": "markdown",
      "source": [
        "Algorithm 1: Brute Force\n",
        "\n",
        "The simplest way to solve this problem is to check each pair of numbers and see if they add up to the target. This can be done using a nested loop."
      ],
      "metadata": {
        "id": "E4lMJ-x1gL24"
      }
    },
    {
      "cell_type": "code",
      "source": [
        "def two_sum_brute_force(nums, target):\n",
        "    n = len(nums)\n",
        "    for i in range(n):\n",
        "        for j in range(i + 1, n):\n",
        "            if nums[i] + nums[j] == target:\n",
        "                return [i, j]\n",
        "    return []\n"
      ],
      "metadata": {
        "id": "ula0ZLDtgPZK"
      },
      "execution_count": null,
      "outputs": []
    },
    {
      "cell_type": "markdown",
      "source": [
        "What is the running time of this algorithm? explain.\n",
        "\n"
      ],
      "metadata": {
        "id": "oiq242fugRSg"
      }
    },
    {
      "cell_type": "markdown",
      "source": [
        "Algorithm 2: Using Set\n",
        "\n",
        "A more efficient way to solve this problem is by using a set to store the indices of the elements as we iterate through the list. This allows us to check if the complement (i.e., target - nums[i]) exists in the set in constant time."
      ],
      "metadata": {
        "id": "YdANROvogW8J"
      }
    },
    {
      "cell_type": "code",
      "source": [
        "def two_sum_using_set(nums, target):\n",
        "    seen = set()\n",
        "    for i, num in enumerate(nums):\n",
        "        complement = target - num\n",
        "        if complement in seen:\n",
        "            return [nums.index(complement), i]\n",
        "        seen.add(num)\n",
        "    return []\n"
      ],
      "metadata": {
        "id": "GxzOQQCDgWay"
      },
      "execution_count": null,
      "outputs": []
    },
    {
      "cell_type": "markdown",
      "source": [
        "What is the running time of this algorithm? explain.\n"
      ],
      "metadata": {
        "id": "K9nKkF3rhF3R"
      }
    },
    {
      "cell_type": "markdown",
      "source": [
        "**The 'generate all possible subsets' problem**\n",
        "\n",
        "Given a set (or list) of integers, generate all possible subsets of the given set.\n",
        "\n"
      ],
      "metadata": {
        "id": "8Gi7TMlgh5Zm"
      }
    },
    {
      "cell_type": "code",
      "source": [
        "Input: nums = [1, 2, 3]\n",
        "Output: [[], [1], [2], [3], [1, 2], [1, 3], [2, 3], [1, 2, 3]]\n"
      ],
      "metadata": {
        "id": "iV3d00hHiQCY"
      },
      "execution_count": null,
      "outputs": []
    },
    {
      "cell_type": "markdown",
      "source": [
        "Non-Recursive Algorithm Using Binary Representation\n",
        "\n",
        "We will use a loop to iterate over all possible subsets. Each subset can be represented by a binary number where each bit represents whether the corresponding element in the set is included in the subset.\n",
        "\n",
        "Here is a more simplified and readable version of the non-recursive solution:\n",
        "\n",
        "python\n"
      ],
      "metadata": {
        "id": "56bzDpgdiSHU"
      }
    },
    {
      "cell_type": "code",
      "source": [
        "def subsets_binary(nums):\n",
        "    result = []\n",
        "    n = len(nums)\n",
        "    # There are 2^n possible subsets\n",
        "    for i in range(2 ** n):  # 2**n is 2^n\n",
        "        subset = []\n",
        "        binary_representation = bin(i)[2:].zfill(n)  # Get the binary representation of i, padded with leading zeros\n",
        "        for j in range(n):\n",
        "            # Check if the jth bit in i is set\n",
        "            if binary_representation[j] == '1':\n",
        "                subset.append(nums[j])\n",
        "        result.append(subset)\n",
        "    return result\n",
        "\n",
        "# Example usage\n",
        "nums = [1, 2, 3]\n",
        "print(subsets_binary(nums))\n"
      ],
      "metadata": {
        "id": "chKA9Kc3i_rb"
      },
      "execution_count": null,
      "outputs": []
    },
    {
      "cell_type": "markdown",
      "source": [
        "What is the running time of this algorithm? explain.\n"
      ],
      "metadata": {
        "id": "snua-NOrjCvq"
      }
    },
    {
      "cell_type": "markdown",
      "source": [
        "Now, that we know how recursion works, we can try also to solve this problem using recursion. In fact, this is a classical recursion problem."
      ],
      "metadata": {
        "id": "ZhnLxfBEjHYE"
      }
    },
    {
      "cell_type": "code",
      "source": [
        "def subsets_recursive(nums):\n",
        "    def backtrack(start, path):\n",
        "        result.append(path)\n",
        "        for i in range(start, len(nums)):\n",
        "            backtrack(i + 1, path + [nums[i]])\n",
        "\n",
        "    result = []\n",
        "    backtrack(0, [])\n",
        "    return result\n",
        "\n",
        "# Example usage\n",
        "nums = [1, 2, 3]\n",
        "print(subsets_recursive(nums))  # Output: [[], [1], [1, 2], [1, 2, 3], [1, 3], [2], [2, 3], [3]]\n"
      ],
      "metadata": {
        "id": "J9hZ6t8-jYVR",
        "colab": {
          "base_uri": "https://localhost:8080/"
        },
        "outputId": "3bc867b6-0ae6-46ce-98fe-d7834becd309"
      },
      "execution_count": null,
      "outputs": [
        {
          "output_type": "stream",
          "name": "stdout",
          "text": [
            "[[], [1], [1, 2], [1, 2, 3], [1, 3], [2], [2, 3], [3]]\n"
          ]
        }
      ]
    },
    {
      "cell_type": "markdown",
      "source": [
        "Explanation:\n",
        "\n",
        "Base Case: When start equals the length of nums, the current path is a subset.\n",
        "\n",
        "Recursive Step: For each element starting from start, recursively build subsets including and excluding the current element.\n",
        "\n",
        "Time Complexity:\n",
        "\n",
        "Time: O(2^n) – Each element has two choices (included or excluded), leading to 2^n subsets.\n"
      ],
      "metadata": {
        "id": "dIBc6dpQjZGt"
      }
    },
    {
      "cell_type": "markdown",
      "source": [
        "**The Ficonacci Sequence**\n",
        "\n",
        "Let's start with the recursive approach, that defines the Fibonacci sequence in terms of itself."
      ],
      "metadata": {
        "id": "IVBqgZFvj9uu"
      }
    },
    {
      "cell_type": "code",
      "source": [
        "def fibonacci_recursive(n):\n",
        "    if n <= 0:\n",
        "        return 0\n",
        "    elif n == 1:\n",
        "        return 1\n",
        "    else:\n",
        "        return fibonacci_recursive(n - 1) + fibonacci_recursive(n - 2)\n",
        "\n",
        "# Example usage\n",
        "print(fibonacci_recursive(10))  # Output: 55\n"
      ],
      "metadata": {
        "id": "TdHFvgPAkKjm"
      },
      "execution_count": null,
      "outputs": []
    },
    {
      "cell_type": "markdown",
      "source": [
        "Explanation:\n",
        "\n",
        "Base Cases:\n",
        "If n <= 0, return 0.\n",
        "If n == 1, return 1.\n",
        "\n",
        "Recursive Case:\n",
        "For n > 1, return the sum of the previous two Fibonacci numbers, i.e., fibonacci_recursive(n - 1) + fibonacci_recursive(n - 2).\n",
        "\n",
        "Time Complexity:\n",
        "\n",
        "Time: O(2^n) – because the function makes two recursive calls for each value of n.\n"
      ],
      "metadata": {
        "id": "V9O9-C2VkMWD"
      }
    },
    {
      "cell_type": "markdown",
      "source": [
        "But like in many other cases, we can use an iterative version of the algorithm instead. The iterative fibonacci algorithm uses a simple loop, and signficantly reduce the assymptotic running time.\n"
      ],
      "metadata": {
        "id": "7Exjia6OkfaK"
      }
    },
    {
      "cell_type": "code",
      "source": [
        "def fibonacci_iterative_list(n):\n",
        "    if n <= 0:\n",
        "        return [0]\n",
        "    elif n == 1:\n",
        "        return [0, 1]\n",
        "\n",
        "    fib_sequence = [0, 1]\n",
        "    for i in range(2, n + 1):\n",
        "        fib_sequence.append(fib_sequence[-1] + fib_sequence[-2])\n",
        "    return fib_sequence[-1]\n",
        "\n",
        "# Example usage\n",
        "print(fibonacci_iterative_list(10))  # Output: 55\n"
      ],
      "metadata": {
        "id": "N2CijIDFkyEi"
      },
      "execution_count": null,
      "outputs": []
    },
    {
      "cell_type": "markdown",
      "source": [
        "What is the running time of this algorithm? explain."
      ],
      "metadata": {
        "id": "AckbkIxhk-RV"
      }
    },
    {
      "cell_type": "markdown",
      "source": [
        "Here are some questions to help you grasp the idea behind recursion:"
      ],
      "metadata": {
        "id": "CT_YUdWeLH7d"
      }
    },
    {
      "cell_type": "code",
      "source": [
        "# Question: Please write a recursive function to compute the factorial of a non-negative integer `n`.\n",
        "# Example usage\n",
        "print(factorial(5))  # Output: 120\n"
      ],
      "metadata": {
        "id": "zUdpD9MoKMGe"
      },
      "execution_count": null,
      "outputs": []
    },
    {
      "cell_type": "code",
      "source": [
        "# Question: Please write a recursive function to calculate the sum of all elements in a list.\n",
        "# Example usage\n",
        "print(sum_list([1, 2, 3, 4, 5]))  # Output: 15\n"
      ],
      "metadata": {
        "id": "fMTRu-CWLV6j"
      },
      "execution_count": null,
      "outputs": []
    },
    {
      "cell_type": "code",
      "source": [
        "# Question: Please write a recursive function to reverse a given string.\n",
        "# Example usage\n",
        "print(reverse_string(\"hello\"))  # Output: \"olleh\"\n"
      ],
      "metadata": {
        "id": "uGo27EPHLX2V"
      },
      "execution_count": null,
      "outputs": []
    },
    {
      "cell_type": "code",
      "source": [
        "# Question: Please write a recursive function to check if a given string is a palindrome (reads the same forward and backward).\n",
        "# Example usage\n",
        "print(is_palindrome(\"racecar\"))  # Output: True\n",
        "print(is_palindrome(\"hello\"))    # Output: False\n"
      ],
      "metadata": {
        "id": "CjpYYmIHLZ12"
      },
      "execution_count": null,
      "outputs": []
    },
    {
      "cell_type": "code",
      "source": [
        "# BONUS!!!\n",
        "\n",
        "# Question: Please write a recursive function to flatten a nested list.\n",
        "# Example usage\n",
        "print(flatten([1, [2, [3, 4], 5], 6]))  # Output: [1, 2, 3, 4, 5, 6]\n"
      ],
      "metadata": {
        "id": "S_xJvWaqLxRD"
      },
      "execution_count": null,
      "outputs": []
    },
    {
      "cell_type": "code",
      "source": [
        "# BONUS!!!\n",
        "# look here for a hint: https://en.wikipedia.org/wiki/Euclidean_algorithm\n",
        "\n",
        "# Question: Please write a recursive function to find the greatest common divisor (GCD) of two numbers using the Euclidean algorithm.\n",
        "# Example usage\n",
        "print(gcd(48, 18))  # Output: 6\n"
      ],
      "metadata": {
        "id": "lKHwToLuLdDE"
      },
      "execution_count": null,
      "outputs": []
    },
    {
      "cell_type": "markdown",
      "source": [
        "**Binary Search Algorithm**\n",
        "\n"
      ],
      "metadata": {
        "id": "W4hgiqqYGvSZ"
      }
    },
    {
      "cell_type": "code",
      "source": [
        "def binary_search_recursive(arr, target, left=0, right=None):\n",
        "    if right is None:\n",
        "        right = len(arr) - 1\n",
        "\n",
        "    if left > right:\n",
        "        return -1  # Base case: target is not found\n",
        "\n",
        "    mid = (left + right) // 2\n",
        "\n",
        "    if arr[mid] == target:\n",
        "        return mid  # Base case: target is found\n",
        "    elif arr[mid] > target:\n",
        "        return binary_search_recursive(arr, target, left, mid - 1)  # Recursive case: search in the left half\n",
        "    else:\n",
        "        return binary_search_recursive(arr, target, mid + 1, right)  # Recursive case: search in the right half\n",
        "\n",
        "# Example usage:\n",
        "arr = [1, 2, 3, 4, 5, 6, 7, 8, 9]\n",
        "target = 5\n",
        "result = binary_search_recursive(arr, target)\n",
        "print(result)  # Output: 4 (index of the target element in the array)\n"
      ],
      "metadata": {
        "id": "zJ1A7TjsGpmN"
      },
      "execution_count": null,
      "outputs": []
    },
    {
      "cell_type": "markdown",
      "source": [
        "Exercise: modify the code and create an iterative version of this algorithm, using a while loop"
      ],
      "metadata": {
        "id": "Y_kfaUzKNl7y"
      }
    },
    {
      "cell_type": "markdown",
      "source": [
        "Merge-Sort algorithm"
      ],
      "metadata": {
        "id": "BMhoazQ9GlA6"
      }
    },
    {
      "cell_type": "code",
      "execution_count": null,
      "metadata": {
        "id": "9IoITDhHGeeR"
      },
      "outputs": [],
      "source": [
        "def merge_sort(arr):\n",
        "    if len(arr) <= 1:\n",
        "        return arr\n",
        "\n",
        "    mid = len(arr) // 2\n",
        "    left_half = merge_sort(arr[:mid])\n",
        "    right_half = merge_sort(arr[mid:])\n",
        "\n",
        "    return merge(left_half, right_half)\n",
        "\n",
        "def merge(left, right):\n",
        "    result = []\n",
        "    while left and right:\n",
        "        if left[0] < right[0]:\n",
        "            result.append(left.pop(0))\n",
        "        else:\n",
        "            result.append(right.pop(0))\n",
        "\n",
        "    # Extend the result list with the remaining elements\n",
        "    result.extend(left if left else right)\n",
        "\n",
        "    return result\n",
        "\n",
        "# Example usage:\n",
        "arr = [38, 27, 43, 3, 9, 82, 10]\n",
        "sorted_arr = merge_sort(arr)\n",
        "print(sorted_arr)  # Output: [3, 9, 10, 27, 38, 43, 82]\n"
      ]
    },
    {
      "cell_type": "markdown",
      "source": [
        "Exercise: modify the code and create an iterative version of this algorithm, using a while loop"
      ],
      "metadata": {
        "id": "IrDkC85RNyOr"
      }
    },
    {
      "cell_type": "markdown",
      "source": [
        "**BFS**\n"
      ],
      "metadata": {
        "id": "tSgAksHONz6n"
      }
    },
    {
      "cell_type": "code",
      "source": [
        "def bfs_recursive(graph, queue, visited):\n",
        "    if not queue:\n",
        "        return\n",
        "\n",
        "    node = queue.pop(0)\n",
        "    print(node, end=\" \")\n",
        "\n",
        "    for neighbor in graph[node]:\n",
        "        if neighbor not in visited:\n",
        "            visited.append(neighbor)\n",
        "            queue.append(neighbor)\n",
        "\n",
        "    bfs_recursive(graph, queue, visited)\n",
        "\n",
        "# Wrapper function to initialize the BFS traversal\n",
        "def bfs(graph, start):\n",
        "    visited = [start]\n",
        "    queue = [start]\n",
        "    bfs_recursive(graph, queue, visited)\n",
        "\n",
        "# Example usage\n",
        "bfs(graph, 'A')  # Output: A B C D E F\n"
      ],
      "metadata": {
        "id": "diwPwHc0OIsa"
      },
      "execution_count": null,
      "outputs": []
    },
    {
      "cell_type": "markdown",
      "source": [
        "Exercise: run the algorithm on the following graph. Make sure you understand how the algorithm works\n",
        "\n"
      ],
      "metadata": {
        "id": "criw4jCvPUtQ"
      }
    },
    {
      "cell_type": "code",
      "source": [
        "graph = {\n",
        "    'A': ['B', 'C'],\n",
        "    'B': ['A', 'D', 'E'],\n",
        "    'C': ['A', 'F'],\n",
        "    'D': ['B'],\n",
        "    'E': ['B', 'F'],\n",
        "    'F': ['C', 'E']\n",
        "}\n"
      ],
      "metadata": {
        "id": "FdPdVG6PPhUJ"
      },
      "execution_count": null,
      "outputs": []
    },
    {
      "cell_type": "markdown",
      "source": [
        "Exercise: modify the code and create an iterative version of this algorithm, using a while loop"
      ],
      "metadata": {
        "id": "paX_BvdFOIC7"
      }
    },
    {
      "cell_type": "markdown",
      "source": [
        "Exercise: make a tiny modification to convert this algorithm to DFs instead of BFS\n",
        "\n",
        "(hint: whats in the pop!)\n",
        "\n",
        "However, DFS has the advantege over BFS as it can run without passing the whole queue (or stack) in every call for the function. this is how DFS is working, using"
      ],
      "metadata": {
        "id": "KIsdkCGzObFv"
      }
    },
    {
      "cell_type": "code",
      "source": [
        "def dfs_recursive(graph, node, visited):\n",
        "    if node not in visited:\n",
        "        print(node, end=\" \")\n",
        "        visited.add(node)\n",
        "        for neighbor in graph[node]:\n",
        "            dfs_recursive(graph, neighbor, visited)\n",
        "\n",
        "# Wrapper function to initialize the DFS traversal\n",
        "def dfs(graph, start):\n",
        "    visited = set()\n",
        "    dfs_recursive(graph, start, visited)\n",
        "\n",
        "# Example usage\n",
        "dfs(graph, 'A')  # Output: A B D E F C\n"
      ],
      "metadata": {
        "id": "5uFB2CJMOZp4"
      },
      "execution_count": null,
      "outputs": []
    },
    {
      "cell_type": "markdown",
      "source": [
        "Make sure you understand the code.\n",
        "\n",
        "Also, note the differences between BFS and DFS:\n",
        "BFS (Breadth-First Search) and DFS (Depth-First Search) are two fundamental graph traversal algorithms.\n",
        "\n",
        "BFS explores nodes level by level, visiting all neighbors of a node before moving to the next level. This makes it ideal to implement iteratively using a queue, which ensures nodes are processed in the order they are discovered.\n",
        "\n",
        "DFS dives as deep as possible down one branch before backtracking, naturally fitting a recursive implementation. The recursive calls use the call stack to manage the traversal, exploring nodes deeply before moving to siblings. This makes the code simpler and leverages the call stack to handle the depth-first exploration inherently.\n",
        "\n",
        "In summary, BFS is usually iterative due to its level-order nature and queue management, while DFS is typically recursive because its depth-first nature aligns with the call stack's LIFO (Last In, First Out) behavior."
      ],
      "metadata": {
        "id": "rlZ6rLB_POxB"
      }
    },
    {
      "cell_type": "markdown",
      "source": [
        "BONUS: the differences between the algorithms in more details:"
      ],
      "metadata": {
        "id": "u8lNsboNQNIV"
      }
    },
    {
      "cell_type": "markdown",
      "source": [
        "\n",
        "### Differences Between BFS and DFS\n",
        "```\n",
        "\n",
        "1. **Traversal Order:**\n",
        "   - **BFS (Breadth-First Search):** Explores nodes level by level. It visits all neighbors of a node before moving to the next level.\n",
        "   - **DFS (Depth-First Search):** Explores as far down a branch as possible before backtracking. It goes deep into the graph before exploring siblings.\n",
        "\n",
        "2. **Data Structure Used:**\n",
        "   - **BFS:** Typically uses a queue to keep track of the next nodes to visit. This ensures that nodes are explored in the order they are discovered.\n",
        "   - **DFS:** Typically uses a stack. This can be implemented using the call stack in a recursive function, or explicitly using an iterative approach with a stack.\n",
        "\n",
        "3. **Typical Implementation:**\n",
        "   - **BFS:** Usually implemented iteratively with a queue. This is because managing a queue iteratively is straightforward and fits the level-order nature of BFS.\n",
        "   - **DFS:** Often implemented recursively because the call stack naturally handles the depth-first exploration. However, DFS can also be implemented iteratively using an explicit stack.\n",
        "\n",
        "### Why BFS is Iterative Usually:\n",
        "- **Level Order Exploration:** BFS needs to explore all nodes at the current level before moving to the next level. A queue is ideal for this purpose, and managing a queue iteratively is simple and efficient.\n",
        "- **Queue Management:** Handling a queue with iterative loops (while or for) fits the nature of BFS, where nodes are added to the back of the queue and processed from the front.\n",
        "\n",
        "### Why DFS is Recursive Usually:\n",
        "- **Depth Exploration:** DFS explores as deep as possible along each branch before backtracking. This naturally fits the behavior of recursive function calls, where each call dives deeper into the graph.\n",
        "- **Call Stack Utilization:** The call stack used in recursion inherently acts like a stack, pushing new function calls and popping them as they return. This matches the LIFO (Last In, First Out) order required by DFS.\n",
        "- **Simpler Code:** Recursive DFS is often simpler and more intuitive to write, leveraging the call stack to manage the traversal state.\n",
        "\n",
        "### Summary\n",
        "- **BFS** is typically implemented iteratively using a queue because it explores nodes level by level.\n",
        "- **DFS** is often implemented recursively using the call stack because it explores nodes as deep as possible before backtracking.\n",
        "\n",
        "Both algorithms can be implemented iteratively or recursively, but the nature of their traversal patterns makes the iterative approach more natural for BFS and the recursive approach more natural for DFS.\n",
        "```\n",
        "\n"
      ],
      "metadata": {
        "id": "N5p8p4YfPnnM"
      }
    }
  ]
}